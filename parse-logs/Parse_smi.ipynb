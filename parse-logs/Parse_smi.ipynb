{
 "cells": [
  {
   "cell_type": "code",
   "execution_count": 2,
   "metadata": {},
   "outputs": [],
   "source": [
    "smi_out = []\n",
    "with open('smi.out') as f:\n",
    "    smi_out = f.readlines()"
   ]
  },
  {
   "cell_type": "code",
   "execution_count": 6,
   "metadata": {},
   "outputs": [
    {
     "data": {
      "text/plain": [
       "['Sat May  4 04:54:36 2019       \\n',\n",
       " '+-----------------------------------------------------------------------------+\\n',\n",
       " '| NVIDIA-SMI 410.104      Driver Version: 410.104      CUDA Version: 10.0     |\\n',\n",
       " '|-------------------------------+----------------------+----------------------+\\n',\n",
       " '| GPU  Name        Persistence-M| Bus-Id        Disp.A | Volatile Uncorr. ECC |\\n',\n",
       " '| Fan  Temp  Perf  Pwr:Usage/Cap|         Memory-Usage | GPU-Util  Compute M. |\\n',\n",
       " '|===============================+======================+======================|\\n',\n",
       " '|   0  GeForce GTX 1070    On   | 00000000:01:00.0  On |                  N/A |\\n',\n",
       " '|  0%   41C    P8    14W / 200W |   7723MiB /  8118MiB |      0%      Default |\\n',\n",
       " '+-------------------------------+----------------------+----------------------+\\n',\n",
       " '                                                                               \\n',\n",
       " '+-----------------------------------------------------------------------------+\\n',\n",
       " '| Processes:                                                       GPU Memory |\\n',\n",
       " '|  GPU       PID   Type   Process name                             Usage      |\\n',\n",
       " '|=============================================================================|\\n',\n",
       " '|    0      1260      G   /usr/lib/xorg/Xorg                            18MiB |\\n',\n",
       " '|    0      1286      G   /usr/bin/gnome-shell                          51MiB |\\n',\n",
       " '|    0      1932      G   /usr/lib/xorg/Xorg                           134MiB |\\n',\n",
       " '|    0      2058      G   /usr/bin/gnome-shell                         113MiB |\\n',\n",
       " '|    0      3166      G   ...quest-channel-token=6777356856772921670    46MiB |\\n',\n",
       " '|    0     10997      C   ...nkdesh/virtualenvs/tf_gpu/bin/python3.5  7355MiB |\\n',\n",
       " '+-----------------------------------------------------------------------------+\\n']"
      ]
     },
     "execution_count": 6,
     "metadata": {},
     "output_type": "execute_result"
    }
   ],
   "source": [
    "smi_out"
   ]
  },
  {
   "cell_type": "code",
   "execution_count": 55,
   "metadata": {},
   "outputs": [],
   "source": [
    "def parse_smi(smi_out):\n",
    "\n",
    "    # states = ['INIT', 'GPUINFO', 'PROCESSINFO']\n",
    "    gpu_info = {}\n",
    "    process_info = []\n",
    "\n",
    "    GPUINFO_counter = 0 # Help to leave unwanted lines in GPUINFO state \n",
    "\n",
    "    curr_state = 'INIT'\n",
    "    for line in smi_out:\n",
    "        if curr_state == 'INIT': # Leave out the initial few lines \n",
    "            if not line.startswith('|='):\n",
    "                continue\n",
    "            else:\n",
    "                curr_state = 'GPUINFO'\n",
    "                continue\n",
    "\n",
    "        if curr_state == 'GPUINFO': # Collect the GPU Util, mem used, total mem\n",
    "            GPUINFO_counter += 1\n",
    "            if GPUINFO_counter == 1: # Leave first line in GPUINFO state \n",
    "                continue\n",
    "            if GPUINFO_counter == 2: # Grab info here\n",
    "                gpu_info = {'GPUUtil':int(line.split()[-3].strip('%')), \\\n",
    "                          'GPUTotalMem':int(line.split()[-5].strip('MiB')), \\\n",
    "                          'GPUUsedMem': int(line.split()[-7].strip('MiB'))}\n",
    "                continue\n",
    "            if line.startswith('|='):\n",
    "                curr_state = 'PROCESSINFO'\n",
    "                continue\n",
    "\n",
    "        if curr_state == 'PROCESSINFO':\n",
    "            if (line.startswith('+')): # Skipping the last line \n",
    "                continue\n",
    "            if line.split()[3] == 'C': # Only care about Compute processes\n",
    "                line_process_info = {'MemUsed':int(line.split()[5].strip('MiB')), \\\n",
    "                        'ProcessName':line.split()[4], \\\n",
    "                        'ProcessId': int(line.split()[2]), \\\n",
    "                        'GPUId' : int(line.split()[1]) \\\n",
    "                       }\n",
    "                process_info.append(line_process_info)\n",
    "\n",
    "    return (gpu_info, process_info)\n",
    "            \n"
   ]
  },
  {
   "cell_type": "code",
   "execution_count": 56,
   "metadata": {},
   "outputs": [
    {
     "name": "stdout",
     "output_type": "stream",
     "text": [
      "({'GPUUtil': 0, 'GPUTotalMem': 8118, 'GPUUsedMem': 7723}, [{'MemUsed': 7355, 'ProcessName': '...nkdesh/virtualenvs/tf_gpu/bin/python3.5', 'GPUId': 0, 'ProcessId': 10997}])\n"
     ]
    }
   ],
   "source": [
    "print (parse_smi(smi_out))"
   ]
  },
  {
   "cell_type": "code",
   "execution_count": null,
   "metadata": {},
   "outputs": [],
   "source": []
  }
 ],
 "metadata": {
  "kernelspec": {
   "display_name": "Python 3",
   "language": "python",
   "name": "python3"
  },
  "language_info": {
   "codemirror_mode": {
    "name": "ipython",
    "version": 3
   },
   "file_extension": ".py",
   "mimetype": "text/x-python",
   "name": "python",
   "nbconvert_exporter": "python",
   "pygments_lexer": "ipython3",
   "version": "3.5.2"
  }
 },
 "nbformat": 4,
 "nbformat_minor": 2
}
