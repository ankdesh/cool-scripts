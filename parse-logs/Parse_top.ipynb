{
 "cells": [
  {
   "cell_type": "code",
   "execution_count": 4,
   "metadata": {},
   "outputs": [],
   "source": [
    "import pandas as pd"
   ]
  },
  {
   "cell_type": "code",
   "execution_count": 7,
   "metadata": {},
   "outputs": [],
   "source": [
    "top_out = []\n",
    "with open('top.out') as f:\n",
    "    top_out = f.readlines()"
   ]
  },
  {
   "cell_type": "code",
   "execution_count": 9,
   "metadata": {},
   "outputs": [
    {
     "data": {
      "text/plain": [
       "['\\x1b[?1h\\x1b=\\x1b[?25l\\x1b[H\\x1b[2J\\x1b(B\\x1b[mtop - 12:30:47 up  7:42,  2 users,  load average: 0.35, 0.21, 0.18\\x1b(B\\x1b[m\\x1b[39;49m\\x1b(B\\x1b[m\\x1b[39;49m\\x1b[K\\n',\n",
       " 'Tasks:\\x1b(B\\x1b[m\\x1b[39;49m\\x1b[1m   9 \\x1b(B\\x1b[m\\x1b[39;49mtotal,\\x1b(B\\x1b[m\\x1b[39;49m\\x1b[1m   1 \\x1b(B\\x1b[m\\x1b[39;49mrunning,\\x1b(B\\x1b[m\\x1b[39;49m\\x1b[1m   8 \\x1b(B\\x1b[m\\x1b[39;49msleeping,\\x1b(B\\x1b[m\\x1b[39;49m\\x1b[1m   0 \\x1b(B\\x1b[m\\x1b[39;49mstopped,\\x1b(B\\x1b[m\\x1b[39;49m\\x1b[1m   0 \\x1b(B\\x1b[m\\x1b[39;49mzombie\\x1b(B\\x1b[m\\x1b[39;49m\\x1b(B\\x1b[m\\x1b[39;49m\\x1b[K\\n',\n",
       " '%Cpu(s):\\x1b(B\\x1b[m\\x1b[39;49m\\x1b[1m  4.1 \\x1b(B\\x1b[m\\x1b[39;49mus,\\x1b(B\\x1b[m\\x1b[39;49m\\x1b[1m  2.1 \\x1b(B\\x1b[m\\x1b[39;49msy,\\x1b(B\\x1b[m\\x1b[39;49m\\x1b[1m  0.0 \\x1b(B\\x1b[m\\x1b[39;49mni,\\x1b(B\\x1b[m\\x1b[39;49m\\x1b[1m 93.6 \\x1b(B\\x1b[m\\x1b[39;49mid,\\x1b(B\\x1b[m\\x1b[39;49m\\x1b[1m  0.0 \\x1b(B\\x1b[m\\x1b[39;49mwa,\\x1b(B\\x1b[m\\x1b[39;49m\\x1b[1m  0.0 \\x1b(B\\x1b[m\\x1b[39;49mhi,\\x1b(B\\x1b[m\\x1b[39;49m\\x1b[1m  0.1 \\x1b(B\\x1b[m\\x1b[39;49msi,\\x1b(B\\x1b[m\\x1b[39;49m\\x1b[1m  0.0 \\x1b(B\\x1b[m\\x1b[39;49mst\\x1b(B\\x1b[m\\x1b[39;49m\\x1b(B\\x1b[m\\x1b[39;49m\\x1b[K\\n',\n",
       " 'KiB Mem :\\x1b(B\\x1b[m\\x1b[39;49m\\x1b[1m 16379592 \\x1b(B\\x1b[m\\x1b[39;49mtotal,\\x1b(B\\x1b[m\\x1b[39;49m\\x1b[1m  6033808 \\x1b(B\\x1b[m\\x1b[39;49mfree,\\x1b(B\\x1b[m\\x1b[39;49m\\x1b[1m  3020184 \\x1b(B\\x1b[m\\x1b[39;49mused,\\x1b(B\\x1b[m\\x1b[39;49m\\x1b[1m  7325600 \\x1b(B\\x1b[m\\x1b[39;49mbuff/cache\\x1b(B\\x1b[m\\x1b[39;49m\\x1b(B\\x1b[m\\x1b[39;49m\\x1b[K\\n',\n",
       " 'KiB Swap:\\x1b(B\\x1b[m\\x1b[39;49m\\x1b[1m  2097148 \\x1b(B\\x1b[m\\x1b[39;49mtotal,\\x1b(B\\x1b[m\\x1b[39;49m\\x1b[1m  2097148 \\x1b(B\\x1b[m\\x1b[39;49mfree,\\x1b(B\\x1b[m\\x1b[39;49m\\x1b[1m        0 \\x1b(B\\x1b[m\\x1b[39;49mused.\\x1b(B\\x1b[m\\x1b[39;49m\\x1b[1m 12859136 \\x1b(B\\x1b[m\\x1b[39;49mavail Mem \\x1b(B\\x1b[m\\x1b[39;49m\\x1b(B\\x1b[m\\x1b[39;49m\\x1b[K\\n',\n",
       " '\\x1b[K\\n',\n",
       " '\\x1b[7m  PID USER      PR  NI    VIRT    RES    SHR S  %CPU %MEM     TIME+ COMMAND                                                                                                                                 \\x1b(B\\x1b[m\\x1b[39;49m\\x1b[K\\n',\n",
       " '\\x1b(B\\x1b[m    1 ankdesh   20   0   20004   3744   3208 S   0.0  0.0   0:00.23 bash                                                                                                                                    \\x1b(B\\x1b[m\\x1b[39;49m\\x1b[K\\n',\n",
       " '\\x1b(B\\x1b[m 9050 ankdesh   20   0   25844   2732   2500 S   0.0  0.0   0:00.26 screen                                                                                                                                  \\x1b(B\\x1b[m\\x1b[39;49m\\x1b[K\\n',\n",
       " '\\x1b(B\\x1b[m 9051 ankdesh   20   0   26524   3256   2280 S   0.0  0.0   0:00.04 screen                                                                                                                                  \\x1b(B\\x1b[m\\x1b[39;49m\\x1b[K\\n',\n",
       " '\\x1b(B\\x1b[m 9052 ankdesh   20   0   20008   3828   3288 S   0.0  0.0   0:00.28 bash                                                                                                                                    \\x1b(B\\x1b[m\\x1b[39;49m\\x1b[K\\n',\n",
       " '\\x1b(B\\x1b[m 9074 ankdesh   20   0  326548  73952  13612 S   0.0  0.5   0:03.55 jupyter-noteboo                                                                                                                         \\x1b(B\\x1b[m\\x1b[39;49m\\x1b[K\\n',\n",
       " '\\x1b(B\\x1b[m 9081 ankdesh   20   0  803968  77256  18208 S   0.0  0.5   0:03.77 python3.5                                                                                                                               \\x1b(B\\x1b[m\\x1b[39;49m\\x1b[K\\n',\n",
       " '\\x1b(B\\x1b[m 9101 ankdesh   20   0   20012   3616   3068 S   0.0  0.0   0:00.27 bash                                                                                                                                    \\x1b(B\\x1b[m\\x1b[39;49m\\x1b[K\\n',\n",
       " '\\x1b(B\\x1b[m 9117 ankdesh   20   0  617284  59264  13476 S   0.0  0.4   0:01.01 python3.5                                                                                                                               \\x1b(B\\x1b[m\\x1b[39;49m\\x1b[K\\n',\n",
       " '\\x1b(B\\x1b[m\\x1b[1m 9134 ankdesh   20   0   38396   3580   3100 R   0.0  0.0   0:00.00 top                                                                                                                                     \\x1b(B\\x1b[m\\x1b[39;49m\\x1b[K\\n',\n",
       " '\\x1b[J\\x1b[?1l\\x1b>\\x1b[53;1H\\n',\n",
       " '\\x1b[?12l\\x1b[?25h\\x1b[K']"
      ]
     },
     "execution_count": 9,
     "metadata": {},
     "output_type": "execute_result"
    }
   ],
   "source": [
    "top_out"
   ]
  },
  {
   "cell_type": "code",
   "execution_count": 35,
   "metadata": {},
   "outputs": [],
   "source": [
    "def parse_top(top_out, numLines = 5):\n",
    "    cpu_info = {}\n",
    "    curr_line = 0\n",
    "    for line in top_out:\n",
    "        curr_line += 1\n",
    "        if(curr_line <=7):\n",
    "            continue\n",
    "        elif(curr_line < 7+numLines):\n",
    "            #print (line.split())\n",
    "            cpu_info = {'ProcessId':int(line.split()[1]), \\\n",
    "                        'UserName':line.split()[2], \\\n",
    "                        'CPUUsage':float(line.split()[9]), \\\n",
    "                        'MemUsage':float(line.split()[9]), \\\n",
    "                        'ProcessName':line.split()[12] \\\n",
    "                       }\n",
    "            print (cpu_info)\n",
    "            #print (line.split()[1],line.split()[2],line.split()[9],line.split()[10],line.split()[12])\n",
    "        else:\n",
    "            continue\n",
    "    return cpu_info"
   ]
  },
  {
   "cell_type": "code",
   "execution_count": 36,
   "metadata": {},
   "outputs": [
    {
     "name": "stdout",
     "output_type": "stream",
     "text": [
      "{'ProcessName': 'bash', 'MemUsage': 0.0, 'UserName': 'ankdesh', 'ProcessId': 1, 'CPUUsage': 0.0}\n",
      "{'ProcessName': 'screen', 'MemUsage': 0.0, 'UserName': 'ankdesh', 'ProcessId': 9050, 'CPUUsage': 0.0}\n",
      "{'ProcessName': 'screen', 'MemUsage': 0.0, 'UserName': 'ankdesh', 'ProcessId': 9051, 'CPUUsage': 0.0}\n",
      "{'ProcessName': 'bash', 'MemUsage': 0.0, 'UserName': 'ankdesh', 'ProcessId': 9052, 'CPUUsage': 0.0}\n",
      "{'ProcessName': 'bash', 'MemUsage': 0.0, 'UserName': 'ankdesh', 'ProcessId': 9052, 'CPUUsage': 0.0}\n"
     ]
    }
   ],
   "source": [
    "print (parse_top(top_out))"
   ]
  },
  {
   "cell_type": "code",
   "execution_count": null,
   "metadata": {},
   "outputs": [],
   "source": []
  }
 ],
 "metadata": {
  "kernelspec": {
   "display_name": "Python 3",
   "language": "python",
   "name": "python3"
  },
  "language_info": {
   "codemirror_mode": {
    "name": "ipython",
    "version": 3
   },
   "file_extension": ".py",
   "mimetype": "text/x-python",
   "name": "python",
   "nbconvert_exporter": "python",
   "pygments_lexer": "ipython3",
   "version": "3.5.2"
  }
 },
 "nbformat": 4,
 "nbformat_minor": 2
}
